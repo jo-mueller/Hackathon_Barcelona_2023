{
 "cells": [
  {
   "cell_type": "code",
   "execution_count": 2,
   "id": "7a058e04-a557-46dd-bd3f-8c5e0dbeb7e9",
   "metadata": {
    "tags": []
   },
   "outputs": [],
   "source": [
    "from qtpy.QtWidgets import QWidget, QFrame, QVBoxLayout, QPushButton\n",
    "\n",
    "class test_widget(QWidget):\n",
    "\n",
    "    def __init__(self, parent=None):\n",
    "        print(\"hello\")"
   ]
  },
  {
   "cell_type": "code",
   "execution_count": 3,
   "id": "94d51314-7bb9-4b9b-8d06-4e0d9947e472",
   "metadata": {
    "tags": []
   },
   "outputs": [
    {
     "name": "stdout",
     "output_type": "stream",
     "text": [
      "hello\n"
     ]
    }
   ],
   "source": [
    "widget = test_widget()"
   ]
  },
  {
   "cell_type": "code",
   "execution_count": null,
   "id": "064192e8-e87e-4c90-a506-8497c551b9d6",
   "metadata": {},
   "outputs": [],
   "source": []
  }
 ],
 "metadata": {
  "kernelspec": {
   "display_name": "Python 3 (ipykernel)",
   "language": "python",
   "name": "python3"
  },
  "language_info": {
   "codemirror_mode": {
    "name": "ipython",
    "version": 3
   },
   "file_extension": ".py",
   "mimetype": "text/x-python",
   "name": "python",
   "nbconvert_exporter": "python",
   "pygments_lexer": "ipython3",
   "version": "3.9.16"
  }
 },
 "nbformat": 4,
 "nbformat_minor": 5
}
