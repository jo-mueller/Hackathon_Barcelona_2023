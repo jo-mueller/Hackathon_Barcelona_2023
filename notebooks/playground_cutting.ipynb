{
 "cells": [
  {
   "cell_type": "code",
   "execution_count": 29,
   "id": "76c6a88d-d5bb-4737-893b-7b2377bc3f5f",
   "metadata": {
    "tags": []
   },
   "outputs": [],
   "source": [
    "import vedo\n",
    "import numpy as np\n",
    "from magicgui import magicgui\n",
    "\n",
    "import napari\n",
    "viewer = napari.Viewer(ndisplay=3)"
   ]
  },
  {
   "cell_type": "code",
   "execution_count": 2,
   "id": "b9a2e2e4-0b0c-4409-b769-cdbf713761dd",
   "metadata": {
    "tags": []
   },
   "outputs": [
    {
     "data": {
      "text/html": [
       "<table>\n",
       "<tr>\n",
       "<td>\n",
       "<img src='data:image/png;base64,iVBORw0KGgoAAAANSUhEUgAAAMgAAADICAIAAAAiOjnJAABC5UlEQVR4nO29aZAk6Xnf98s6+z6n5z6yd2d3sThJ3AANTjdEhkBIFEGJlEU6pKkJW5QYpmWZlEMfZKtrFDIjZH7QESIthRSebkmUxUMCBUoERcHR1UsDJEHsEtgL3Gs65+yZvu+uriv94cX/jSe7eha7O33Nsp6YmKiuysrMyvznc/yf4w3iOKYlLdlrSR32CbTk3SktYLVkX6QFrJbsi7SA1ZJ9kRawWrIv0gJWS/ZFWsBqyb5IC1gt2RdpAasl+yItYLVkX6QFrJbsi7SA1ZJ9kRawWrIv0gJWS/ZFWsBqyb5IC1gt2RdpAasl+yItYLVkX6QFrJbsi7SA1ZJ9kRawWrIv0gJWS/ZFWsBqyb5IC1gt2RdpAasl+yItYLVkXyRz2CfwCMidKOqGChwLw8M+l0dGWsB6oGxG0UtXr744Pr4Nm7AI//3k5PDIyGGf16MhLVO4i2xFUXTlyjPDw388Pl6FGmSgB/7Z6OgzV68e9tk9GhK0ps1YiaJoeWLiTrF4EmZhGmqQhjpUIAM1uB2G/2h6+rDP9KhLC1jfkSiK/t+JiZPj40QREEAECFV12IYBGICvwomRkb81OXmYp3vkpQUsgLUoevnKlVOl0hyswgzMA5CDPDSgDBk4AcBdeBk+Vyz+2bGxwzzpoy1/0oG1FkWvTEx8q1h8DwzBHXgNtiGGNHQAkIIeSIG7UstwE27DL0xO9rZ8+QfIn9yoMIqi+YmJbxWL3XAMuoWqCgApaIMU5KEbjsMarEMMfTAHJ+DFiYnvawHrAfInFFgvlEqTV650RNE5aIcKTMMtfZqCduiGPKShHzLQBusQQADHoQbX4fsO80ccafkTZwqXoujZiYlvF4vDkIF2qMIy3NUGAQzJCALdsoNpuA01SEEdvg3z8Lenp4darOluckSBFUVRD2xEUT0Mwz26c1EUvTAx8fvFYghPQzcswjzMQww1CCAFx2EQylCDDugHIAUpWIBN6IIUfA0aUBkZKbbCw93kyJnC37h6da5UerlUcsZoHWrQH4YfKhSevnz5nYEsiqIvTkzMj49nouiT8EEA7sIbUAWgAQFk4BgMApCDGPohACCGOrQD4pTzsAU3SqXlKOprKa0mOUIaazGKnp2Y+K/FYg0a0A55yAtbwBJ8tlj8S28zyP+9UumLV67EUfQ0XIAQgNfhJsQK9BoK/RyhkIKsnHcvsQitivYwA4vwv09Pt4DVLEdFY61G0a9eufJSqQRkoa4oLAN5yEEGcvBbxeIg/OBbw9a9KPraxMRvF4vn4QMwAOtQgXswDRkIIIaqQVUKcpCV7cOAz712G1SgB2ZgAG6USn2Fwn5ck0dajkqu8KVS6Y1SKQNpiGEL2qADclCGdW2WhX9ZLK5G0Xfd4b0o+p2rV18uFj8N3w99cAwuwiZ8S8+TQ1UMnXAWOqATsoBYq4ZBVUMvHAfRpz+Xbtx4+J//7pMjAay5KPo3V64AASzDAtyH1yCCBViFKrhkcAwZ+IXvlglejqKJ0dFb4+PvhxDSEMIQ5OB3BZ0aVCCGHngPtEFaX08lIUVSbwENPQAV2Niba/BukyMBrH9+5UonNOA2rEIZ0lJUC7AE9+AmVKEONfid8fGNByutr1y9+i+Hh09E0QgMwRC8B7pgA34PMkr/OXCcgSfNd4MHXJEG1GELVmEJ5mFJUOu8cGEvr8W7RQ7fx4qi6I1SqQ/uQF7QcbrEue15aIcY7kJdcdyuMh9F1ycmvlUsnoHzkJPbhFC1CVmpnzScgJPiPNH/Vhz+tqEsn91LTcaxxWPtKocPrKUoiiGCXkhDD8SwCGuQgQXIwjychwVoh21owI1S6b1Jl3k+iv7V6Gguik7BWeiFk1CHMmzAt6AGneCq9vLQDyeEsB3i4LstEDvNlIGGwOQUWA4Iw/e1sjq7yeED68WpqSXogbScG5/9XYJ+WIM1mIUMbMEW1JN7iKLo5YmJ/69YPANPQA/0i45yvnkkVAGrkIGT0Kv9NESmV/WvwS7i9Jnb0vnvKbjYigcfIIcPrGdLpawIBasVXNhfUcJuDnogBytQhV+bmhorFIAoiv756GhbFDlUdcsIIj79LiyJWXBIehx6ANXDLMLGbhbWa7KaGKw6BJCDBRiGE2H4F1qVMw+QwwfWXBSlxEnmxYW6AHAIZqAO3bACi9AJK67EIAyBKIr+r9HRU1E0BI9BHnoUP2agCqswDd2AgrinIQUbUId12ITGg7XUjmDQJaed03Y3DL9w7dp+XphHWw4ZWFEUzUTROchBm3Gi09I3XbAFecjColQR8D9euvTF8fEvXbnyIXgMTqsAwf0ep4qqcF04cFlktzeEKq+lUrANQE1vOiKtD7q1hxpswyDMwlIY/pmxseMt7+rBcsjAuhlFeeiEPABpE5qlYQPSMABL+qgMC9AFX5ya+q1i8WPQBscgowoqhMgGzMMaZA2Z7qzhKmzCCqBDbEOHYlIgBf1KP69CN5ThNpyFFfhyGP6Tycn+VjD4pnLIwHJQcIxloBdDqjcP5NN0wJroU+AC/GGx+BEI4BRsQrspdNmCDGzDdeiGENqhDktwF+5CFbJwLPktoAGb0K0387KhN+AGVCAVhrVC4V+3/Kq3IIcJrCiK3L28rTirTRaqC1bFOdWlkPpgAZ6GD8JZaMBJyMrLzkIA27AIA3ATBuA4ANfFgXXAeTgOntNsKBL0DNmqXqzAHLzgqJAw/P6xsT/TigHfshxodUMURaVSaWZqaiaKZqNoIYrqsn1p+e/OoanApmqkGpCH2zAE7XAajsEpGIDHoQ3aIQ29coNWoQ4bMA9dUoQdMACdsCA9BNRgFsrmDO/BjDytVSAMnxwZ+fjlyx9tuVNvU/YdWFEUvVgqvTA19V/Gx/vEKeRVPuCyK2kVDtT8aUkPrcv8VaECVcjDceiAgjLBW9APedgEYBVyMASbMA0D0KtSqk1Yhk7ICVVbOlxZiaN2WIB8GH6yUPjE5cunW77UO5L9AlYURX9QKv3BxMRrpVIXOA/d2d1AwPLoyUBW/5yj3SkHKwWbcAO2pITmYAmy8GH469CAdRiCQK73BvRAh6jUTp3Sst5xvvkiLAHQgDV4FspwKgw/XCh89PLl1piGh5S997GiKJqamPh3xWIv9MGwdFI35GTynKRVG9Np3gyUJ87Il++FNWjAFvRAGbKwBF+FOvy32q3nDlwz4BLUpdIqsADrihW2lDICFuBl+Cb0h+HfGBv7gZYXtUeyxxrr/7l69deLxWNSDB1JDVSHWJRVVhV8FlLOzeoSsJBKex1mxU7dh/uwJCf9I5CFP28KpNb0ohM6YQbumRBvAWYgCxvwLNwKwz81MvLDly+/v+VF7anspcb65atXv1wsuurenLJ1sYxaDF3iG53N8torrZAwDceT5xSruCCjYqxZOKk3t+Qq3RTttAYbqmnOwmuwDilwc4gi1QyW4Sth+LlC4VqLO9gf2TNg/dr4+H8qFvvlOZ2UsomhQ/opI+q8Ainxos4HcrGhi+Z6tU+XZpkx+MtBF2zKSQoElG/Ch2BLfzrA3QREZMzAbajCItwPw08UCl9qQWo/ZW+AFUXRr1+50gcNyMFJve/qFLoV7uWMsfMxv9dnVSWhy5BXkq4Ci9JtXap4WYMtBZLb0Av34UXogG3Vy3dr567loQ6LsBWGHy8Ufr4Fqf2XPQNWIL/7lDDhUYUMU17Hc060r7CzbX01+GMYhQUAZgC5a66opgMasozAuriG5+E9ANRFoC/DTdh0xQth+IFC4WdakDoo2Rtg/cHUlDNbPvmfghNK8AXQLgKzIirLlmv6QmFgDVZhGY7DAiyqKuEErKhwJdCpN2AJzpkyhDqsQAaW4VfhCUiF4ScKhb/cgtTByt4Aa6FUQvUFQAd0iSwAAhEKOdVdxXrfaynnmS2JJpiF4yIOnJPegH5YUXWUw3FKpcPO5A2rvnQLvgwfCMOPFwo/1oLUYcjeAGsoDCPIKa3boVICB50O+ewOYbFqVFyCuaqN12FJiHGtL8vQDzdMifAZuANAVd91BKmLAF5WrelGGP5IofDXW5A6PNkbYG0oT9wFHclel4wh3DtlHLf1fqxZjFswBwhD0/AJ2NR0Rgz/eVzqLdCLe3AGcvACnA3DzxUK/0MLUoctewOsFehUUzymqDctWjwwWZpAFhPBxRUQp/XayatQg3vQCRU5ZynohSdgVa1/XVCFCE5ARxgWJydb2b2jIHsDrE+F4TPQZlwflBME2mWqUnozI76gJqLBla8Epq3qNcipNuG0SIos1FQM48RhdBY24JfGxlqoOiKyNw2rK1Hk6sEDaamMyKp+GNBmOVUZOGKiomhuTW7WGixCTf9y+sppuGg6mNE+XZurq2k+G4afbGX6jozsDbA2oqgdusStu5rPXs04cHk6PxbBs1xV1fFtaz+bsOkKoZSK7jYkfh+g8qmzkEmy9t/bSvYdJdkbYLnamLRUEdAuaqpN0Z8DQWy4BgeXDf2JmmeqsAS9cMIQ9JvajwPWGSWqvdP2h6XSnvyWluyJ7AGwFqIIM1QYmULkVGUNa+r8p0AJHMwwWWBTO/F9DYFKAhuwARVYhjKUVZ38nQEKcPMtjKBpyYHJHgBrMYpSqgJFqRugIXfbNt5g/szCtrGDPkLMQD8sa8rZpmoWXDWp/9YTmqRVhi6ow50Wto6M7AGwXp2aSpuxUjnpmA7oMa2CgUn4+KZk29nnp250iWLdUJsDYtjrpu4qhmGzt3b4pdZCN0dG9gBYr5VKfjCa45lcUeigmbYYyB9y+POsRFWFLq4E2eWth8TUe2XWUJ4RxZtOO3bDU8a1/9L4+MP/nJbsiewBsO5FUT+0aXJ1Tm61q7xr05/uSM6vqsp5b1Mlew3K0AudsGVSjbGmOVSMD3fMHL0NTkCbaP3faGHraMjDAutWFJWjKAVD0C2nB/FVQAA9pn0+Lzff/X8KgDosq4vLiWvnipXY7jUpbSeeG2sXpp2m/PLExEP+opbsiTwssBajKAt9Sgk77sCN8QjU4NUmuqFDAWNgXHhHnbvS+Koq8lAOu0e5oF4zuCGGNhjSn66sNAcD8PVS6R+3PK0jIA+b0vnqxIRz0huwCuegWzXsDjq+pi+Wa98Nm2bGVT/cgywMwrom+nkywqWonU82AIvGLHZDO8xqjHG7sPUfisXPXLr04cPjS6MouhlFURS55NWtGzfuRpHvyz0fhlvw0UuXPvOuZnQfqksniqL/Y3j4IgyqYvNTGnzQabq7MBVUaClAnyicgdeEv/uaEvNR6Fd1aLvx4rdVsIVxuW7ALRFdmzAHW/B3r107mI74W1E0VSq9ODWVgXtR9A2N+0IPUlpzAPyMeHcpqtAfhj9aKAxfunTpXQeyh9JYi1F0XsnBAB4zH/lirIZoUie++LMGWX3qbVynpn3OwEXNgfGjs2PV59iJfg1NA/RE/1lYg//lypVbN27sR0lWFEV3o+h+FD03NfVfxscHxYA45fph6ICKUlveH4iFp4qKp2NYi6JfKRZr8M/C8AcKhT/1TpfeOILyUBrrH4yOtpVKrrH4uJxol4RpUxNOXXypZ9KBeTO6vQLfVN4QmNZHVwCoQtmUHd+XDnCJHVe1vAqzsAJrurs5WIbn4MkwLMMXCoUPXbr0/Q+hFRyYvjU19Xyp9EKp1KlWokCFZe2qd83L7qPJvE4yejYyJhBZ0tyAJajBDRgKw780NvYTj342/Z0DK4qifzg8/B5w7alDSjO7K96mwM3hKa9ydSfrWsLUqbQXDM5mYBaAH4cuqGnxrQ24odK/nPjSGmxBGWZV0Fw180U6YF3tGGVYgZNheKlQqMPfemua7FYUfbNU+tLExLdLpU7ogy7ApJJ6dT51NbrlNSugXUU+DVNk5h0A/2/RnHMZ7sIytIXhDz3iFbDvHFh/OD7+5StXhuEczMEAdCkV48oTnoZ+cw/yyXGMEaCZokv6c1uKZx0+A4+Lmh+ENERwzwxYq2qwjAOW0163AcjAaVEeFbirAZOuKnoLFuADIyMfGRn5C5cvXzDW53YUAc+WSs9NTf3O+HifsgV5Q5Sgwop+40mkNS3X/UbvZrlnqaH0QFW62REr7VKuq/rI/RbXL9kRhl8YG/uLj6b2eufA+sXR0Uqp9GGIYUVP83lY1hTQNTgGZ3RZ3bJHvo7vtt5cMiP5t+S8V2EIPmXuUzfMwDbMqwNsVWTJMsxADBe12kAEZ6FP/EUDlmFDe3P6IwMbkIKTYbgFnx4Z+XYUTZVKHVK6GTnddrSEq1ntFeWbVgjsR49UZIu/c32TFy2rGHYHzTMv38uFIHc0kqkCPWH49yYnLzxqvtc7B9bfDIJLMKCumE4YhnYom+kJQLtZnM3NKnYlo+5SBjAH67AO02Z2qGPb/5y2jyEnRegmYLnXzsVZgTsQwyfglkLIulyuWBqiqqrAWNhyw71zJs5YtZfGJAyQyes2ddUZNY+kTRVGu4Y9V5VgyOq3u41jjau0VwlVbWRUiPuG1kxchzn4fLH4Pz1SlvEdAiuKol8cHv6zgNRAh4kKF5PBYK/xcL3fug7bkIIVuAVbcBcacE9s1kl4TKvAoYn+7ljLWscLyGjd+RyMwHWYNzO9y6K4XEgxq73FCs0qskoNM0HeocSP8nJ0VI9Y34ZCh3bDA6OT6TKj5AJNErDiuRI/DTUtSmJZrWw5RSTLMr5r0DEy8kuPzqKb75BuiKLoBMyJ/nbDGtyjnNIlc1JWi31dj68PjpzG6hewkI6pKwhYEEPmbERW3GldjRu+MBDdv7wCe4fjE0oobchHXtBxnQnbVnVXVfUXjntrMwEd6mlDNK/LlPvqIESa5E3nLabq3z+79iHOwSnN8HUatAumFXY4Y9otWq4HNkqlnxwe/qlr10YeBdLrHQLLuerzSub06456P9cBy/lMdbm9W6bL3v3fgABOyL9e1fPqU4EzqrXyp1sRSZbSPGNn6c7LlKRgUGY3JaD3ATAkELsd1mBQaxTkoQZzAv2uqPKSN/1IHWbqM8I6+iHodazfm9Ye2hQM9kIV5qAGp6R93Qabujhzrlspin5+dHT12rU/d+Q9+ncOLPfc34b3Q17BTkNGsBvWZDJqsoBpdXGRdIcH5HME+qiuCZFr0G8KlJHb5APMDhiGV7QIT94MrvVHcWbOBYnnjIJMQ58UhkOVw0RF/nW3hgN6cbDuhx4DLyudmnWTTXru/kmw2XR/enk4B2WYgzaRf3kNFbsIx+CWEu3/4sqV2Rs3jnjv5Dt33v9J8J3r9imFUSdM+gK4Drc0kbbHFLn3aQ+r8pyW4GtitlZgFs7rnrXBJ3VXApFVmEjzAmThK/A0BEnvO910a3M6B4+tNvWcOTXmNGW7bGJN2XErOYWlDXYXx7OXk28GUoR28oBNSPizXYJVeZBVnWeskZlocaH2kZF/eIRdrnde3XBKln5dLF85WfnulNYybMtKOrd3HpY1/GMJNuEW5OEYzMFdQKQUct69LvQ20fk0F3SfLkBaw20xhLj/1waDcEYM57lkYU8XXIAPwBk4AwPQpoLVOLnMTkqt3mnV8lvsplXheAxOGn3mH6ptszf7xTiZlb8AF/VvQBt3wEVd2A5YLpV+dnT0TW/RYco7B1bu8uWyENDQyqhl8xx3KWt2X8tbbprhx3OwqIEfd2EV7sv8OWlomS4vMdxSOqgbLipvuC3KyrnAgVmKwoULfVpozrFQJ/V/u4iMtFgMf6At+X8YeiJlXHgnaYNdBykfA2ZgSK6eVU7bChR2SGwIei9pGNQaCEAWLkIH9EE/3C6V/uejiq2HyhX+/eHhTBSdgtN654wePgfYO8rVuKctp1uSUvrFIexlddnX5Jj3wTp8TsBy33Ith6fglCqVqyanuyYsen8upSbsrGiCOHlHHePfbt5JQ7scqbQJ6xCqOkzPSEpHSWuDXR9TB1O/DbKVOXUrIX1cSw7/jcWX+rN1bkBVmj6CO/Dni8XLR8/feqhCv/cWChuwCK/AfUBWz6dxuhUZVeEWoEXkX9Pc4juaPLtmloeowQKEcNr0YmTgPHyPBru57p2yjrUlz92Nze2BQegXHVoRZK047fWYtuyXS16X4cagMK+q66oO1K5jpc0+m72uQIs9ZbVxWgrMhQhZod91jWd301vubNvlnmaV738vnID/WCx+5egVZD/s1OSfGx3tLJX6AMjBE3BCH6VFLs/pyauq2tNd7gU5Z0vwmpyMrIicH1Ew2FBLdFZevM8SOtnSCMl2Q4t/5+cZXZUxDnIsVecVhu8RKktzuJPpF7e+rbniA9I0QVL/pZpeYNI7FR3Lf8UWqOXEpFSUOfAlIRumy3dZFbbuCrhk2k24D39jcvJI8Vt7MI77p0dHB0qlQUX15xUk9kKbsjdzcll8gO2Zmy2YER2V0Vjlx+GzgLiJvOG4nREsS7U0lJbJ7nZugbkrSGc0dPN21B1UFV40zCopvqu2KlSlDZfmj0IST17hWaCXTYlHYIyje1FXAFgxS4E2BCwnm3oe1uTRunziq0AYXpuefvM7dZCyN3Pevzg+/mtXrpyCHsjCGZmhNV0spAnqigfXpRhcSUJFtukYXIJLZtR7bFLXsVlw0MfzNVNiGph7lklGqeh9H5fVm1YBbmilwl5tnzE9sV3mt5BEUtDkVaQMu+HBVJE1xLhxSDM5lFf0jtvJltlnRZGv01v39Fuq8DI8VSj8nSOzNueeLSBwN4p+c2LiV4rFPuiHkwKZlTlYVrLFYWtNdGIKQvgM/CggBebPrCEnqWze3DZkqbVlTtKmq9G/06Xg1BcHx00bWPY1Lei3GVT5Y1nb1yblVDfPQNZkDJ3UknXVgRz5TX3R79yfRsO4rbECZ/f8vGaS8UvwTfjZI2MQ934tnX8zPv7vrlxZhg44DYPJFZFiXaZlQIxAJ3xOkMLMd7CybZLQXjZMoFAzpECmiRPv0LDusqqy/C1Ma1hSTvbI3nVU+uylZngNl3Ds0A/ZwcemZa+tVJLPTFoUoN+5f0IaSZQ7WTfvzGp4PVCFe/AsTExPH4X65n1ZpOlXrl791WJxGJ6HZciL4KnrYpUhEBvZDWcAaIdBOCl3u6574+7ZVpOecLJuXle0nx2KytVLVY3RjKW32o0qQtloL5kmVCEfKK1ctT8KuwHL/xYv3po3FH5WDVbqydZc24Ticw8+HbkIS1p93e3k2/B4ofB3j4BB3K/Vv/726GijVOqDJXjBVIU7uvyjyhkjCnsABqEOC/Kdt5M7DMzCE6hApc+0vjggbie/mFU7WkOAqGhvNknsJDb5aSAFJ9SCG5unogad6njzD4CHcmC+7t/fwSDUjTkOklBuiLLxf3r8pQxBvwVVTfIFVsyq6ZPw9ycnP33YBvFh+wofJGllIQL4nHypnHIUOTPu0SXmqqpIRk9/2tzjWK59uxZK9eedFZ7Suvptir/sUC5PK6DNdughki5XSrRCQ8fK6n/vOMa7+eyxsYmxOXmSnFyPynV2YK45AoibEkckSV1UFb2l1fZ++erVdyewSqXSK6XS98pYlGEAsrAJT0IIL6jWql2z1DaTmT6SwHISyx9KJd90d7qiOxqr97qsWsKUKVxJ7Wa2SGZUXCmL28BWLOblL1qiIQ/p5PT5HbvdVVz/4/1k4RqmJszvqqbERj65t/YkvLJ6ME7AH5RKv18qffJQsfVQzPuD5KWJCW9lXAnlcaXt1iAPH4WsOqJWYN14r14HBCYsd2IdEavMkKm1+qMOXQonA1U4ZR6AKkyw5lBlVZr7KC8e3x83MC5/WosI78hMW+/bJ6Zehin4BtyCZVhWimZbTtuCYRky8LxSmet6ujLKRXoHMa/nKoAQfvmw5wzsPbCiKHpmfNzWDnQo6dttyMAOaanGg0tQMsln1G4TG4fJsZppLTPmmSFfxZWSQop3g5QTH1H27nZRUknqxKPK7S0nfZmSH5kViG0AWIVZeBHWYRDOwRkY0s90xWFpHaus7hJ3OE993jap+thURNonYRBeKZVKpdIDfutByL4Aq66S5aypN89Av3yp+ypsd2L9jLTIgja1WPVCJ7Rp8ZyUtnEvVpJdCW3JKK9DRtDmCoMmeNXlSw0afZmSquuUYV1XTXqgKiBb2orRT4FMcEZ/1iCCOREfHUpLAANwHE6aikIfbLpwrw82hK08LMM0LAlYXTqBtPld5+CZQx28s/dR4f86OrpeKg3AafWa9hvvtU+Z1LQYLBupuVgvlTQfFhBpk/FAN2zdjJJ3HtgC1OAYpOGe6cr3CeZMUk2WNQjJ95em5FFhnK0dNcc2Eqw31RWibzkOb67p/RWDwl7o1p81Ee4etS4WmYc0DGtdNGADnoJ1eB1QeaBLgC7A1+FfHR6ntccaK4qi6VKpXfXEDdFXdbVINMzVRLNlAnnleaOKArMZhhbaweZnoEP3ICdeNKedo14MLzZJlxG3fsysvolIinbjteyI9SpJ6Nc0OK6sciv/6fZuqNo0qwYB+aT9zWkI+bHkaZ+ELEwb7rcTnjO5ppSJxfpgCH778JTWHmusUqn0S6OjH4E+1e/6S+a7OjvVR4Bg5KvgO5oivroxf/7NhnwaL1WNlUeB9yp0KSZtyJmrm4Inb9FyJuCqqQI9t5sDHicxugEz5p0548PNy1WaM26Qr4+4YHaYg8Fka4ktsa/DnBjRtDR0xVyNOVGDrytFXZOGuwvfhK/tD0/5XWWP6YbZqaku0zvl2L+8YkMnNXnTDdXluZ+ebtKfgTRKOhlepYx181RnOmlDnZviiasuNdf75J1lMlNm/2mdUrNdC2Rnn4MIZvQDl5TxrBvU+rorVxPh2LttGILbcB4QsdchxMRS4TYQPg13YA3qCgZTqn0FOuHrcBy6VHXjQ2nXo/Zvx8d/8jBaevYYWC+VSllTz+SuV3uyabOsxeWs8kg1Zfdi2c28Yj13Kas6b2uParCpzohYeqiWzEx7FspGlx5V3t3eQcc7WYMZuAF34NsQmOGXadXI+5LGDVFKgYptXJDhGsUysAnzWsclpwnkGRG53VI8Xs7APZXIuhRQh0oCA/gAvABPaePAmIhjcH1qincBsPKaBOmlapCB6lKqpoY4lueUNWn8hnHbU8rNuT34GsusKRZwHmun6MqcgGuzJehADaMVUjqHlLKK6NBVESKvwctQgWnxsW1yrSqQa/LP+jTJIiVkLykKHhLOqoo0vTvo78SG4mif9nGdmznYUDH+EjylGTtZCGEZTsJ1PYo+r/rM+Hg0NnbwLvweA6sdGkkHpRlV3vB5R8FROBXpG4sG7y972xQYk+fO3iuhjeRMm5TGJzWnTbzqSht9aZ+HPxLuI41Puq6fk1OdZ7oph+1O6ZgMcSzcnFKnUNnUJN6BRemVY0YFuh/SadI+aG29TuWv0BPrCzTak36bY8Ic3fNSqRQeuNLaY2BtazaLu0Yp9SZkk6iqmvsRm0jblQE677UhrYM+8ueaNl6IJVE3NaLSf92HftUk4FCg4Ovp6tpzAC/CH8HHIYLXYVkI6FAFKRp2kjJPQkZrJqwLEIFuc04nn1bNZ9asC3QH7kCbglNfBtOvL27DJvSIaMirGfOcsqvZZDYiUBuBC2//aGrqYKZmWtnjqPDnhoeHoqjTcIDugvYJVQ5wxzUF3l33k3KY3C3p0d5i3elY/7rN65rx67dU19CmpTERsLzUk0Gok6pcHM8m3IFfg4sQwzdhTiayX4lzt9tusxiCC9mG5DWmjfvl77c7pW0BC8GrS+hxe+tSBvA2fFon2VCgtwKzqleuwwfhnooE10RfefN6HzbhLtyEZw48NtxjjeWUTUqUo/UbbMt5xlAMzkGJVRXjc0H+hjWSO/EmwztzNanG9ibDtyO4Sxkz6j222Gy5Cr8OASzA8+qYyMOwcep9cV9WtiajH24rJnJKI/rzCUyq2J9eWaUyTmbglC5C2cxZcezxgJYV6tTsp7QKGF2hkdeCDaG8G7ohiqIDdrP2mCB9I4q892PromwhZcoo7TZBpwYr+iKymzvigKy22SE2ygse8JNi4+n7d5zkdOdW4T9IC97W3KIL8L3yx/tgCIbhe+AxOAcnoU/L3/k8TCBUYaLjtJl160+gLph2GVAuqbPeVrv7R6gH+uSxLenTvHwsn76s6ke5Z+ClA88b7jGwnGnP6NHcMB95lzytP7N60KtCTEre2Kae7x3AKie7pXfo93pTHtASQoiB9NnGtK6+c32e0byaLd3v8/C0ifKOwYAyVD5J5fGUhU7ohF4ZuJyKnrNNpiFOEh+O5+uSPnZMfdlsn5LX6KoneqDXFBphsg5powKzouxfmJriYGWPTeHJMNyOIp912TTPbkNgcnre+u8bJjx2D2tKnwbiDnwwuKICFSfekNkiviCJuViUz46aFi8b8HV4RcGXr7Q5KxbXpwpSxg0PtKhsVrQqsln2EA31+VRkW3ckxdEX85oD4BCzpCVhnPjqnXW9GDSfel43a2q8MrpuO0LXA5A9BtZTIyPPj49vmrzEspLBaLiPDZGczJvZMnVFy+2mZMBJQ5UO3iN2HzWXZwVJP6aRxLdnZZ24woFZjb5xeiILF9V7M2TMd5fxrz33Vkk6Us0J6bSUWU29pjsItpQZvVzTA2B/kX2Rl0Iqwym1grmLmTM5CSfuz0feFHLpUpxU0Tvo70Cd6RhV73wF52p0qt98R9LQW42MCiy3lcSomqKuzaZf5ROCflfuDjVkXG7BS4AiRHcCj6uALK+95eRjuWcma1RUPlkKhvEpLSyq8txdddqQCQnzylJ4TZbVFPhY2K2bj4BtDUDshbOASj9IagsHuPkDXyJ0j4FVKBRSYVgxGqWeLH3pSfKZ6OFLmxm4QZKLipNWwyZtUslAzMlSE7DakxGD12rObl7XpOeM6FxrZVI6vWNmXU9Pctqj5DRgJ5ts/Ipl36vJ35LWAPNeMxTefhokA6DY5LjqsCRtVIV2CE0Xf7eJgXwld3Sw2NprjQVfGBubgTXF0k48hdhmahYcsOahnuyysg+cT+/Q5JinDMHtJaOgwds7XxuThjVYhAWBz+1tBVYUw2MoTZ8h6NZMOeSo5ZpOBnOSObMwRyBIPUh2/DQHzXaNfaubaQAepnXlvJ1U1Nfkymzc+53mK5mmUz0A2XtgfaZQ2FIjZWy8qzjJtteErTWNVcbw9ZgtndSTrkNg4rsdklf3SzP10K7irXlNv0FrC/jQ3Z5noBI8Jy6W3DVLjYGIPUlnQPO7fiH5A7dNGiBrBl5u61p5bVdTw21VH/kYsE2bpcx4endtf/9g3ay9BxbwdKGwqdl8to5qR2xSgzVIQZ/8iR1Y2XGrGsbCenO5wyTF2kNz+tnTqs70LMItWNHMwbo0RAwDUod9arp3R+x4MKoQl9FMdqR28xr9V7xYx7RDhtKJN4huh2UxzA2DsIbRo7HxEzyl3PfgM98P2RdgDV26tA4byepbdOfsv1UNRY4VKz0oTPUed83srZpsQEXJjbXkrGXMNm6zdg0BXFCDqP/6NvRoiHfO3PtsExO7g9GIzUckP0VVD23JmveU/tVMn2peJr7f9OJWzT43tENEZCDwbSqizIrVQ7/3+YOlsvYFWIVCoRyGdc1S85e4mizlxlTY1ZRY9ddix41BN6+h7eu7uV+LUBf9Eydzz37PW3qUszCfPKXYIDtlSnRScnreXALz/47Tdv/aDHHqE4tp1fw0lIRp/uE+YbolJHmvfFvt4FsaSm1tt5M3scX7JPsCLODTIyM1BdiV5J3bfoAz21AIvaZauZr+eYDGcrqb8edB1m/AETd5ZnUteuiu/l1lnyraQ05Qs1av3US4fs9pw1f5kpVGUrFZsZbd5gd9IrxfBKnbcsDEEP73rpnO2LwpX6vBqmmc9HSxP//7j3pU6OTYpUszJuFakf/u/qwqrvFWo2E+Qn6DV1FV0xXowz1vvDC3fDDpyfkCUbTZqv50JOe6ULguTeBqK7bEYFn/F4NvewhfDWw/9WbO10x7vRUk26ZdTjALA6q+9wC1WR2S8K0ZGCF212smzx36Q6+8O4D1VwqFrTDchAW5Uysa+FGXp7xlRl578cqsIdPjVU6tycsJdJXTYgGyBqP+pqLb6YpP2uXntqsn0eFmFSrQp0KJlDittCnL2TDnYE/b0/o0fdqQX495xztAzlh3qBlkRyxSk0flNl7X7/KHqGmH3vHKywfAbLzjYTgA2S9gAVfGxm7DXbM00pZw5iWWGbJRt5e6caRiEdDbsiMbWuEob2ZAIqilmm5SXV6Oz/q1JceQBOpRdt0NnsTP6NBlJdd3NXa+5HAHhnbc0diUfQIVrTexI0NgT3sDAvOkeS2VMppvWW9mkzvxGmvp3aGxgB8vFJ4YGanBXa064Vyl5aSiRkDxvLNDXmDq+Jw4bG1q8cGq7oeXmnRD2hSwo0M0DNQaSiHHSgx7gM7p6E69tRnVkjFrcDZnkXfgmKRz6Y2+dw/SYl890J00x8V1WE/yEXb7mrxSL23Jp7ch3/QgZX8P9wuTk8dGRjZhQ30mCFvuQtiLWBO8quIhLWvaSLZG+ejJOvJ1ocd/Ma/vemd2h0p40oT67t+s2WE52SPvj4ihAKzYkKIhrn/NTJKpy+vPaukU/xV/Kdq1BLAv6whMaUPaVPt4Z2sjGXvuMKn+PA8yq7PvOHbYmhXfvakrtam0j/VVG1BR1sXHhoEgZQ1Qt/HKPfJiBe3+zbSIRPuDLZqfMmk1R2G8ruSuK0NY1pb53RrU6sk7mjG5bSc5E+2WxcVnzHXP6Wz9OynzXNkqWZRQCuSqV1TQZ39g2niWXjx7d2ByEAryr167dhOWIYAZrfIVyB2uNtkUZ+82ZPXWmqqNM8mxd4E0SoepR7Xb7xDbf/G0KbH3yuN5Kb+0lm+tJ9feIalI/IHqMnb+fY/FdZUON58MTYmp2JTieE/cnXNNLdfoix3JQLhHM+7crfWaNQ9fO8CszkEAKwzDzxYKN8XgLcnlQkpix5wPVABT1+s4CSPneG1ocR7/pi/m9NIcDQVSGL668KNSDA0tIREp4EjpJOeT1ffe/vr9N4ymDPSj/LltQk0ga3ahsru5BN4P2xE1z+m4PqnlHgz3Wxz1umkO5M85DV+dmHihVPp6qfT1UunOPpvF/ZpB2iw/FASn4ITCLlcnc948rIGZX+2lw3SwoKtZNyyr7+XvUQq2YWyNJUg9v4qKVN3teQP+M8xBAN3QCUvQB6NGBcYQ6rtVU4mFkLpDvC8YwIbGF+bl/ezQqTVZNHeSa+YibCR99rKAlddBs3AO7sEdCNQx9qrIvyXYhBVlfgbhWVg1UxRPhmFPGH52ZORn9no1noOLFf50oXAT1mFWimoOZmALNmAD1lXQsqZWgpqWNqlrzsci3IAZWNRua1CGm2a4z668fGDKMhvJG3lKjaAphRT9sAmzBlWYR78Om0Jw3RSdWsmYImlMiOrrF/x1b8hb2lG/5as5vANXE6rqyamWtxVYOH7OZyncEavmBHrh++As9MExuACnouhEqfRssVgYHv7Sng4BPDiNBfzN0dFbpdJJ6IGTkII8DJiQG9PdYC99Lul4NpR1cd+agQ8qge/sguel6lJLVk+46SCdAscW/AbcV0NHnzyhk/Bhc9BToh621QWfMTRSuskJ8/fel6g7cf6Q95yqpo/XQb8Mq+L9G7CqQ2wLWKuaA5g2ZasZgW9do45ScA/mFNtuw2m4AYvKiA8bPySCXtgIw3+xR+umHCi78Y8mJ0+NjNyBJbgDs7AAVVhM0jCxrAOyZVvJpVNTKqNzymNY769omq3fT2xMVax74DlYr9vOyk6lpX5iLVNtxWOIZM4OKU6rLP2LfBOjhhRkw/R4xbrHbTpJp7G84+hOuy6gWBOcMYu9L5vHMmuIvbyC0wEI4ZgaFS/Ak/Ae1+EYRXs1vPSAaTP+6eTkRwuFm3JRV+E6zAtkXhpinLfl0NRUQOzF1cj3JMsBVpNOVaB7YImJetJEptVunxJf4D2khaQzZJNFaH74thmmsKP8ITZp+EoylU6y9dKjsKK0QWyqrJz4o2Skg1GMfFYgq2r164Z5kNLq5qjBezW4+iKcVh6pAd3wBAzBfy4W92R46UEDC/jfrl37kWLxBc1OWYOKhpi9AnMaK7omrmtTa/n1NjHIKY33QHerCvea+p8wSNpRfeB0zNnksiUeWGXDn9WT+8FkmSqwLid9FVb1E8pJqAWGEY2TfBvm/bKh6GrClrdZW3IhMsoEnDCHcL0VaeP/BXASQjgH3wtPQwhDmjfug5suyMApGIBv78UcwEMAFvDXxsb+WrEYwT2Yh7v6eVWY0zq//vaXpc9iFcflkgUFm8nuK2BNMxdsgIkSNeyWSB4CjEfvdujsVCW5fWo3pjFWRVRZ7OVW0qnPNRWRbsvH9wxFdTe156oYfOPJNpxRdNnlHCPTUrBl2kBinX9azoNX2yn92DT0wDl4Ap7UJN/JvVhW83CABfzY2NjPFQqujXMZXtMQi5qWTvXwqit0mlFJaqDntSZEbqoIJ1CzTdrYndiQYf62xTIcWY30IFkxUYUZbVxR2B8re91v+tnrhubdNgFdTbc239Rh6/0z7yc1miCF+aiisz2hGZxthl7ZMIj0JrKmMQWZZJInrX7/QTijac0uZz8Ij0EnzD00y7XHDatvSz577Vo5iv7vUmlQ/Ux1jTE6CRkNA0opfQYswrJC65qGyQJpWIZzSQ66bhSbE5s5tpMRMprdSLJ2ryaXpWZWd3KSUkavrAO5Y+UVVWCs545cUCNZ1pLS8xNrV5nkGmBb4pZT8BTcVzO+3eEG1NSo43bu/YEO+AEANmDWJJE6dQ3ROTho9sOzpdLnHm7y0aFpLCefn5wsFovrItPd5VuAV+G2iK478Aq8CLdhEdZhRp6+pSRqhtzCKB4MP7RtXBmvHhwgamr/CpQPcdd6UX7PUpNhdbvthR6zBJXfZ1qKqtlu1pN+Xi55kr4YGlEb3uv/IABV6DHKGOMq2RS1Q0xGMW8uORU3q1yFT3DVtE1+L2BxyMAC3j829lcnJ3vDEPkQLqKehzmTd6vCvHC2DPebGNHYZIowWsdJLJXjwWFDPKdRBvSnD9cDWcB1uGMIT5IsZcZofuuM73pxAznXDQOOdBJqNRFmFf1ZgdPSUh6+VZP8SZkh7w2jFHNwDOp6Jn2mKGcy074HPaMs2d3dzvxtyeEDCxgZGfnpycmekZG1JBR8UsK/40zSCtyDV+CN5M3GrDiKyQqTTAxjHJ2UkLStWXDuitgiFm9wt0wk1TAbY+oKmwleC7UdWSDv/20nW5hqmq2Njttror8BXRybOEob8s8FNM6FOA0DWp/c5y7z5ky6RFDXNf2gubDsHciRABYQhuEvTE7+6WvXVsLwPqyrQXkd5uE2zMI8rAhq7sq+DDfMupJIaVmo1ZO1U/ajhnmCXa1Yv2HtvdXwNOkiBMkg0VYl+Fxn8zX1QPcumjd/LiPkO5vd7yorRvEk/rDZW87URXp15bas6p8POQdNzYWTrLbPmdYglPjvgUV4+CltRwVYTgqFwi9PT/+f09OfLRZTYbhqGnXcDdhQPO/Uzzq4CtVFXeJdgWXDfluSil7nlXixyaWM9JCtlq7Bfb1uNnYpUy68gy2z8WlDTqFnVWry5LaTEYY7jWHz3UpyYWz/ozDqfFMFj0PwXqMU0czLTjWixeYE1vW68u4DlpMwDP/y2Ni16elfnJ7+wWLxPsyrMKsTKjADy4KCuzQLhqSuPHjPOyTW4+uDxzYVsXiLZnNNSwK0U2/pphtsk9+xQZjVfw3l3evGEdzWsnI22nAFIKc0LClWNsKef11BhvfYlhVjVqFf0bQ77UE4Z6bDdZpQdE2exjycDsN3J7C8nAzD/25s7Lfi+J9OT3+hWAxHRm5CAx6Dec11rRm+yhX77qgYDnbbc6yMh6cKG2b7QDF/PlnNvKjnfk1lgDsO1HwsD4hYYa+vM/MB3bqaf1LCRwr64Zjmi6TkA80bByhWkTdy1R1JO6eHrRc+BF1qADmR5E5rYkaclcypsn4bju/FtNIjDSwv58LwJ8fGfn5y8lfj+O9MTy+HYVm9PT6odnjKfrcCXHvvs8aHdSipJzdwd7pDxV5bpjp+sSlZ1Jx+xpiwslmxwn+roXwopqWiW5DCeGwZWXmP8poG9SBIoW0cGfYEnASgF04ll+hxsqXvViEN6/Ix3jcy8qCr99bl0QCWlTAMPzEyclI1ERsKspzz627PjlLSHbfc/28DN2f+LIfkXjg3zrHt7omviIi/pXNwys+hZw0Wlaqa1y3fVPE+xuMum1VMApOiSRtdmIUKrGlApjsxZ7kcqjIGVYEZ5XpOFyFQSU9z2tT9Ls8d1hRO9l269LbvSpMcJvP+juWVKOqCz8M3YF3ZGK+xarofPECLoC39R+5Tey0Cw5ivwCCkoVcTbDekKhyyV5Vm8eI06BosKb+UlY1D9Q5bZnxDh2bmLukoKVmoWcE9L9vna/fqqk1wXtoNHb1XQwMDIR6FgRhXwZFbzl+8L3xvyXl9SHn0NBbw1VKpC+pSIe43OMXuLUXOZBWD3bzsZp4pk/S0vKybBsA2pZMxGzd2i+ayWoq3LuJ+HhZUa1+WY9Sm5VXTprsEEfc277SliUueu0opp7QKS2bdij7IwikTjaZELviUVx3mNBXMt/6uwdmRkZG9MIWPnsa6HUWD0AOrkIVluRT1ZFLFKST381JKtKWSn5KsgPApbSftJu6rKVp0rQoZLdMSaP/IIw7MaeS0JMe2cnl15VVS0AVDmjdUET68eI7NnZJTJBUz3MEdd1txou/THBBDkTK0fpv57S6vumpYGF8Jsgif36Pi90cSWI4t7IW7sKTMa8XQiU5suTO6VekHJFvKsK5R8qgyrkvu8KzWO0EefcZk6ALzUQ56zGooWyoj8/Z6AdpNz5lTe1kzUXJHkqCmJLRjuboVDdRNxqkCtxTGdsAZOKfzSSeNfk0Y9SUYm9KCm9C3R+qKRxFYr05NnZb6mTfNTw04a/wDr0UsjGKlWhEafOGUe+Lb1CTTq/XiHOC24L7GN2YE4kB313MW3aZGrwGryerWumrtbQmGZ0qXDPnu8Vo1S1RUtQeP47yM3abylb0woPFgPiLx4tjdmhDpKP7b4v3n4Qf3rlfn0QPWaqmUMTUq7VCB23BJq4w62cEa+DfT8mc9vRTAH8tfqSqGcuArw0V4HdZhWUorY/zflIC1o93DMZntwlld01Y7oc8wDhU1ps5oV7HZzxLMmjqwJahAv0lT+t+1InV1TKump5vqHDdV/dGAeUW7CypzXYIPFQp7pa54tIC1FEW/efXqG6VSTQ/rOpyAV+AcvB+A3qb6Fh+LBbILNYOqNbgBvweI6ek2GmUN+oWtKqzCbUEwZdznNgVx7paXTf/gpvgC5AD5zJ3f3uuqjIBVhTuGZHcGdNMwCLF8vi5YExM2CL1mrU17BWrSxO4hdHp9XfmxJaiF4V+8dm0PbpLkEQDWvSj6ysTEN8bH81EEbEIeTsPzgIq1P6+N06rmtuJdK+9tLMMqvAhfF9uE4rjjUFdRpSv27Ybz8IbmKQTJ4LHSlEQKTP1CRSqhDYZUAGMrRdeN+XanPZtc9d7rlZRZyykDx6ALluF1Heg0dMCgeZAQqipqQLolvC7DigaK1MLwpyYnv8tteJtydIE1E0XPlUq/MzFxs1QKxV6mtdbhv4dz8DEA3gvtsKRLlksupuWvb0VP9i14HpbgZbkvgSIpp89mlRoahNOKOs+aBQQs2x4ncexdt4z4KqfbOtV83FBLYFrHwlRQLZhKqZSs5Abk4ZzW/epUoV8VrivDOARtcMow6RlFD+5sK5oSjbgJd0G2w/CnJif3fNG5A21YfetyN4p+ZnQ0E0W2BcXZsml4BRrqXhqGUc2azsFjqv/c4bd6xVCFG7AOJfnIWWgz3QpOG9WhD34aBmATbpgGG2cx08nUsuX0neSTWcu0mCrMIRYNU7UIm2ZpKmQQXW70lPTicSGmCpHs2hZ8TMu0YFiGDUF2E16H10V5LClieH+h8Ff21AJ6OYrAerlU+nujo2dNlWagZstpPfFZuAj/DSAYPW5Wck+Z95FHtahS45vw2xCA48MycMNEc07y8MPGj67Lp6mrCr7TpBqrCt+29W8VAugWm9ol3quSLJ/f1jursKJKQyeu0vpEMsTr1acNuKuRDXPwMTgH79WnvlbCnV5FhWspcfdb0BmGHy8U9jAM3CFHDljPXL36tWLRPu434VvyIc4pQTtgfKaUuiF6tTqNTfZ5wsmF9C/BVyANF1TifV3qzUdbvh+/Hc7AE4A6XvqhTfesllzOJJVs0UF1f14Gm3o9YvUhLhn2KytPblDxQSrZwh/LD7sDETwFQ/ApyCmlva1vpYSqGaF5FZahLwzfOzb2o/u5UPTR8rF+9+rV3y0WMwrgV+GrcBseh7NaoKYrOf7ABXonBJ2a5ohm9dtqwlkbLMHva3ytyye+rnobTLWMr+tqwC2Y12KqDQ0+aFdoGYj0x+QWG/KuqklgLcC20lCx3L47qmBxNcE9WlaopouQlzO0rmepookM96EX+mEQyqYJwHN49zVHzkXKq5AOw6dHRj47NrbfK/keIY31tfHxZ65cyWj073MwBY9DqDvdoVAI1dA5fvIJPc1pddpkjVlJKcRbh38LS+rSDOA6xGozPwbv0fgutDd0LzNqO0ZgaoMeFWG6PGDD+FgealWdg1eiGTghP/2efK/HTYtbrPSU+1ENsRVOKvAGtMPLsAAfgyp8QD2GyOVfhRswLWu7ArPQFYY/ce3aHpJVbyJHBVj3ougfDw9fgE7xeP8RzsKT0C8FcAbuJftPTmrdm0A+e4dKA7rM6KwOSMNvwotqMWjALHTCgFbmPWMqx5dk1HbYsrypR7BvnleYNi3vZ9ZssINUq+hbPnRt14sOGNBMJc9obBh6ogKvAjAPr8H7YRk+oor4itI1q/CGUkAbcAvaw/AHx8Z+bD9t3w45KqbwSxMT74MM3NekkBGYhX7Iw2PS+RnYgAjqSaY7lmORlXpbN8AK4DWYBtTKUgOXF+qEIZMHdGm4PhjQZjWzWE3ZgABdu7rGBp2G9wByojfgvnpE63A/2Z0GdMA51cw4CzikM4z1/GwmUeV+gkNVL8zBsFC1quVe7qkqfx3mYDsMf2Js7IcOEFJOjgqwjkdRRST1DFxUy8ATcFxhc11QeJ9C6BnpAwembpkn9Pg6y7gOz8jq9RgHqA1Om7DLN0j1Q7vK6DIi1rMaxdGs4WNV+d1Ve3QA7fDYbr901bzYUmTaaNosEGXls09vqLnyNaipJucDUIX7Sikuwh33K8JwYGTkxy9ffu+BGL5mOSrA6o2i+2qEugcX4Xn4CTguXtG5VlVZOpf6uKCkis31etc1LWUzBTl1JWyoHLQTnoJTmoK3JCXXr87VnDIntkE+Tr6Ok5hoqNclLQ2aEUT8hfZ1Db0kxOeetxUw+lb9hhivefhj2IDvgZqGWr2hKg+XTIzD8COFwmcuX95v9/zN5UgAayWKXi2VeqAG9+AUvArfowp/n2hzUlVYnjPtAM3SEARd6fCAShI2FYKdhxMGVXNy+YdUzReYEQwNEys0TC+GPzFLcJCkZ2OV7/lk5Y6Mk5PAMJ+B1J6r1lqBDZiHV2EDnoQKdMFLMKsawzXIhuHpQmFs36iptyVHAlhl2AjDzSiqwm14GrpUo7Kleva0oXlySrNYvtvCqy6NlVMLg3fMN6ALzmtvHlUpOA6Pm1LBShI6mKN4pfigwCd+MIAayVxe86XwqEIseQMieAWW4bRWJaqIS+sMw08UCuGlSwcT7r1FORLAOhGGPzs9/Vyp9K+vXGmPorzmBPlylD44bW55oMlsNmnj03YN05uVMjOu3MYr8H0mfeboH0ePPW0c8x2g2RUEvtAl3u0r1TddjhVTYWylbtZ7cp64CwKe1bh5l404HYYfGxk5d+lSPgyPFJ68HAlgOfnwyMirhcIbxSJwTjjIi0zfUY3enWxQth85+7WjfSqWqnhacWKsMUm9kIMnd1M/zVUS/kVgDGKqaZvYHPHNxeazfdW807iOfHoFrsNiGP7AyEhPGA5duNB+VMFk5QgBC5iNIjRs3fkcx+U7Nz/f3Rp9gcxioFSMTQ/bmpYY+k3twJaU4gUzTCGl9E7aoKRZYmOCvX0MkmfY0Ll9V6owlivmn58qPAd3oScMLxQK/+BoeE5vXY4WsL7/8uXnxsdPwDqchPOiAFJiB2wI5k2GlbQ8MKQz2qBPbJB1tmK55z1mjKL35Fw46X24N3enYrGmzZs5T99e5aBpG/fntnkGNuAb8E0gDH94H2paDkCOCvPu5T+Nj7945UoazsBn9GZKFeU5mR6vGOyEDF/64kDjGIoFiMRZuMqZ88lJCk9Ar4nmHIPvC4LfBE9+g8AUUe36LZ9LZrdQYxkacF1DA+5Dbxi2j4ycvnz56Ju8B8mRAxYQRdEbExNvlEpRqXRRPVKbqvD0sw/mNW65PwxdSn84DCuqzVqFNa3tcdE98VH0aqk0p2jAWdhT8D7AFIlvy0HO7uZ978qOuqa8VR0XuGWoNctZLMp5CiAIw1UYCMMM9IdhDsJLl+YeBf/prchRBNYOsavsRVE0IGrHGYi3ayaiKJqYmPgMXC+VqvBaqXQceuEkbKtdcUim06X8loTmDuWRanAyDB29NBSGQG8YekXlphMuQXzhAlBPnmQYhgOPoGl7u/IIAGu/5W0tD/koujuHIi1gtWRf5LvyLC1pyTuRFrBasi/SAlZL9kVawGrJvkgLWC3ZF2kBqyX7Ii1gtWRfpAWsluyLtIDVkn2RFrBasi/SAlZL9kVawGrJvkgLWC3ZF2kBqyX7Ii1gtWRfpAWsluyL/P8VXiTSxuQSSAAAAABJRU5ErkJggg=='></img>\n",
       "</td>\n",
       "<td style='text-align: center; vertical-align: center;'><br/>\n",
       "<b><a href=\"https://vedo.embl.es/docs/vedo/mesh.html\" target=\"_blank\">vedo.mesh.Mesh</a></b><br/><code><i>(...mbl.es/examples/data/bunny.obj)</i></code>\n",
       "<table>\n",
       "<tr><td><b> bounds </b> <br/> (x/y/z) </td><td>-9.438 ... 6.078<br/>3.331 ... 18.70<br/>-6.168 ... 5.871</td></tr>\n",
       "<tr><td><b> center of mass </b></td><td>(-2.80, 9.42, 0.905)</td></tr>\n",
       "<tr><td><b> average size </b></td><td>6.350</td></tr>\n",
       "<tr><td><b> nr. points&nbsp/&nbspfaces </b></td><td>2503&nbsp/&nbsp4968</td></tr>\n",
       "\n",
       "<tr><td><b> cell data array </b></td><td>GroupIds</td></tr>\n",
       "</table>\n",
       "</table>"
      ],
      "text/plain": [
       "<Mesh(0x0000022C13E46210) at 0x0000022C192ADCA0>"
      ]
     },
     "execution_count": 2,
     "metadata": {},
     "output_type": "execute_result"
    }
   ],
   "source": [
    "mesh = vedo.Mesh(vedo.dataurl + \"bunny.obj\")\n",
    "mesh.scale(100)"
   ]
  },
  {
   "cell_type": "code",
   "execution_count": 11,
   "id": "75368b26-7d3d-47b9-b043-a60de836e6cc",
   "metadata": {
    "tags": []
   },
   "outputs": [],
   "source": [
    "mesh_tuple = (mesh.points(), np.asarray(mesh.faces()))"
   ]
  },
  {
   "cell_type": "code",
   "execution_count": 17,
   "id": "56ef7928-4b8e-436c-a38c-9bd59923ac15",
   "metadata": {
    "tags": []
   },
   "outputs": [],
   "source": [
    "\n",
    "def cut_mesh_with_plane(input_surface: \"napari.types.SurfaceData\",\n",
    "            origin_x: float = 0.0,\n",
    "            origin_y: float = 0.0,\n",
    "            origin_z: float = 0.0,\n",
    "            normal_x: float = 0.0,\n",
    "            normal_y: float = 0.0,\n",
    "            normal_z: float = 0.0) -> \"napari.types.SurfaceData\":\n",
    "    import vedo\n",
    "    \n",
    "    mesh = vedo.Mesh(input_surface)\n",
    "    cut_mesh = mesh.cut_with_plane(origin=(origin_x, origin_y, origin_z),\n",
    "                                   normal=(normal_x, normal_y, normal_z))\n",
    "    \n",
    "    return (cut_mesh.points(), np.asarray(cut_mesh.faces()))"
   ]
  },
  {
   "cell_type": "code",
   "execution_count": 7,
   "id": "511cac01-84a4-4664-820f-de450760b90a",
   "metadata": {
    "tags": []
   },
   "outputs": [
    {
     "data": {
      "text/plain": [
       "<napari._qt.widgets.qt_viewer_dock_widget.QtViewerDockWidget at 0x1fd783340d0>"
      ]
     },
     "execution_count": 7,
     "metadata": {},
     "output_type": "execute_result"
    }
   ],
   "source": [
    "widget = magicgui.magicgui(cut_mesh)\n",
    "viewer.window.add_dock_widget(widget)"
   ]
  },
  {
   "cell_type": "code",
   "execution_count": 14,
   "id": "ea36f150-d579-4e1f-96b0-240f7e3a8def",
   "metadata": {
    "tags": []
   },
   "outputs": [
    {
     "data": {
      "text/plain": [
       "<Surface layer 'mesh_tuple' at 0x22c3c13ad30>"
      ]
     },
     "execution_count": 14,
     "metadata": {},
     "output_type": "execute_result"
    }
   ],
   "source": [
    "viewer.add_surface(mesh_tuple)"
   ]
  },
  {
   "cell_type": "code",
   "execution_count": 18,
   "id": "3d5ebaf1-456d-417c-8d82-7df5b8f92761",
   "metadata": {
    "tags": []
   },
   "outputs": [],
   "source": [
    "result = cut_mesh(mesh_tuple, origin_x=0.0, origin_y=0.0, origin_z=0.0, normal_x=0.0, normal_y=0.0, normal_z=1.0)"
   ]
  },
  {
   "cell_type": "code",
   "execution_count": 32,
   "id": "d20e1f71-5001-4a35-a3c8-7f56d3263578",
   "metadata": {
    "tags": []
   },
   "outputs": [
    {
     "data": {
      "text/plain": [
       "<Surface layer 'result' at 0x1fd11310e20>"
      ]
     },
     "execution_count": 32,
     "metadata": {},
     "output_type": "execute_result"
    }
   ],
   "source": [
    "viewer.add_surface(result)"
   ]
  },
  {
   "cell_type": "code",
   "execution_count": 23,
   "id": "d6eeb125-1115-4f45-913d-94f51f7609ae",
   "metadata": {
    "tags": []
   },
   "outputs": [],
   "source": [
    "def get_intersection_points(input_surface: \"napari.types.SurfaceData\"):\n",
    "    import vedo\n",
    "    \n",
    "    mesh = vedo.Mesh(input_surface)\n",
    "    bounds = mesh.boundaries()\n",
    "    edge_points = bounds.points()[bounds.lines()][:, 0]\n",
    "    return edge_points\n",
    "\n",
    "def get_intersection_line(input_surface: \"napari.types.SurfaceData\"):\n",
    "    import vedo\n",
    "    \n",
    "    mesh = vedo.Mesh(input_surface)\n",
    "    bounds = mesh.boundaries()\n",
    "    edge_points_a = bounds.points()[bounds.lines()][:, 0]\n",
    "    edge_points_b = bounds.points()[bounds.lines()][:, 1]\n",
    "    vectors = edge_points_b - edge_points_a\n",
    "    vectors = np.stack([edge_points_a, vectors]).transpose(1, 0, 2)\n",
    "    return vectors"
   ]
  },
  {
   "cell_type": "code",
   "execution_count": 24,
   "id": "11db6d11-e234-480c-a6ce-2320590aa2f8",
   "metadata": {},
   "outputs": [
    {
     "data": {
      "text/plain": [
       "<Vectors layer 'edge_line' at 0x22c234592e0>"
      ]
     },
     "execution_count": 24,
     "metadata": {},
     "output_type": "execute_result"
    }
   ],
   "source": [
    "edge_points = get_intersection_points(result)\n",
    "edge_line = get_intersection_line(result)\n",
    "viewer.add_points(edge_points, size=1)\n",
    "viewer.add_vectors(edge_line, length=1)"
   ]
  },
  {
   "cell_type": "code",
   "execution_count": 22,
   "id": "1fe3b7ca",
   "metadata": {},
   "outputs": [
    {
     "data": {
      "text/plain": [
       "<Vectors layer 'vectors' at 0x22c3c2d4c70>"
      ]
     },
     "execution_count": 22,
     "metadata": {},
     "output_type": "execute_result"
    }
   ],
   "source": [
    "bounds = mesh.boundaries()\n",
    "edge_points_a = bounds.points()[bounds.lines()][:, 0]\n",
    "edge_points_b = bounds.points()[bounds.lines()][:, 1]\n",
    "vectors = edge_points_b - edge_points_a\n",
    "vectors = np.stack([edge_points_a, vectors]).transpose(1, 0, 2)\n",
    "viewer.add_vectors(vectors)"
   ]
  },
  {
   "cell_type": "code",
   "execution_count": 3,
   "id": "c5db2ad5",
   "metadata": {},
   "outputs": [],
   "source": [
    "vedo.settings.default_backend = \"vtk\""
   ]
  },
  {
   "cell_type": "code",
   "execution_count": 6,
   "id": "1918d3da",
   "metadata": {},
   "outputs": [],
   "source": [
    "vedo_points = vedo.Points(mesh.points()[np.asarray(bounds.lines())[:, 0]])"
   ]
  },
  {
   "cell_type": "code",
   "execution_count": 28,
   "id": "6e7fb68c",
   "metadata": {},
   "outputs": [
    {
     "data": {
      "text/plain": [
       "{}"
      ]
     },
     "execution_count": 28,
     "metadata": {},
     "output_type": "execute_result"
    }
   ],
   "source": [
    "viewer.layers[0].metadata"
   ]
  },
  {
   "cell_type": "code",
   "execution_count": 8,
   "id": "baca0c48",
   "metadata": {},
   "outputs": [
    {
     "data": {
      "text/plain": [
       "<vedo.plotter.Plotter at 0x22c16219730>"
      ]
     },
     "execution_count": 8,
     "metadata": {},
     "output_type": "execute_result"
    }
   ],
   "source": [
    "vedo.show(vedo_points, mesh, mesh.boundaries())"
   ]
  },
  {
   "cell_type": "code",
   "execution_count": null,
   "id": "356aee0c",
   "metadata": {},
   "outputs": [],
   "source": []
  }
 ],
 "metadata": {
  "kernelspec": {
   "display_name": "Python 3 (ipykernel)",
   "language": "python",
   "name": "python3"
  },
  "language_info": {
   "codemirror_mode": {
    "name": "ipython",
    "version": 3
   },
   "file_extension": ".py",
   "mimetype": "text/x-python",
   "name": "python",
   "nbconvert_exporter": "python",
   "pygments_lexer": "ipython3",
   "version": "3.9.16"
  }
 },
 "nbformat": 4,
 "nbformat_minor": 5
}
